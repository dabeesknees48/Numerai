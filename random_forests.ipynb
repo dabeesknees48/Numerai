{
  "cells": [
    {
      "cell_type": "markdown",
      "metadata": {
        "id": "view-in-github",
        "colab_type": "text"
      },
      "source": [
        "<a href=\"https://colab.research.google.com/github/dabeesknees48/Numerai/blob/main/random_forests.ipynb\" target=\"_parent\"><img src=\"https://colab.research.google.com/assets/colab-badge.svg\" alt=\"Open In Colab\"/></a>"
      ]
    },
    {
      "cell_type": "code",
      "execution_count": null,
      "metadata": {
        "colab": {
          "base_uri": "https://localhost:8080/"
        },
        "id": "Vh-n2h-F_HGL",
        "outputId": "3fb02ec0-ab74-4829-8c98-a377e9a6f608"
      },
      "outputs": [
        {
          "output_type": "stream",
          "name": "stdout",
          "text": [
            "Looking in indexes: https://pypi.org/simple, https://us-python.pkg.dev/colab-wheels/public/simple/\n",
            "Collecting numerapi\n",
            "  Downloading numerapi-2.11.0-py3-none-any.whl (26 kB)\n",
            "Requirement already satisfied: requests in /usr/local/lib/python3.7/dist-packages (from numerapi) (2.23.0)\n",
            "Requirement already satisfied: python-dateutil in /usr/local/lib/python3.7/dist-packages (from numerapi) (2.8.2)\n",
            "Requirement already satisfied: tqdm>=4.29.1 in /usr/local/lib/python3.7/dist-packages (from numerapi) (4.64.0)\n",
            "Requirement already satisfied: pytz in /usr/local/lib/python3.7/dist-packages (from numerapi) (2022.1)\n",
            "Requirement already satisfied: click>=7.0 in /usr/local/lib/python3.7/dist-packages (from numerapi) (7.1.2)\n",
            "Requirement already satisfied: pandas>=1.1.0 in /usr/local/lib/python3.7/dist-packages (from numerapi) (1.3.5)\n",
            "Requirement already satisfied: numpy>=1.17.3 in /usr/local/lib/python3.7/dist-packages (from pandas>=1.1.0->numerapi) (1.21.6)\n",
            "Requirement already satisfied: six>=1.5 in /usr/local/lib/python3.7/dist-packages (from python-dateutil->numerapi) (1.15.0)\n",
            "Requirement already satisfied: idna<3,>=2.5 in /usr/local/lib/python3.7/dist-packages (from requests->numerapi) (2.10)\n",
            "Requirement already satisfied: chardet<4,>=3.0.2 in /usr/local/lib/python3.7/dist-packages (from requests->numerapi) (3.0.4)\n",
            "Requirement already satisfied: urllib3!=1.25.0,!=1.25.1,<1.26,>=1.21.1 in /usr/local/lib/python3.7/dist-packages (from requests->numerapi) (1.24.3)\n",
            "Requirement already satisfied: certifi>=2017.4.17 in /usr/local/lib/python3.7/dist-packages (from requests->numerapi) (2022.5.18.1)\n",
            "Installing collected packages: numerapi\n",
            "Successfully installed numerapi-2.11.0\n"
          ]
        }
      ],
      "source": [
        " !pip install numerapi"
      ]
    },
    {
      "cell_type": "code",
      "execution_count": null,
      "metadata": {
        "id": "DPGeYnze-fve"
      },
      "outputs": [],
      "source": [
        "import os\n",
        "import gc\n",
        "import scipy\n",
        "import numerapi\n",
        "import numpy as np\n",
        "import pandas as pd\n",
        "import time\n",
        "import csv\n",
        "import math\n",
        "import matplotlib.pyplot as plt\n",
        "import gc\n",
        "import json"
      ]
    },
    {
      "cell_type": "code",
      "execution_count": null,
      "metadata": {
        "id": "92QBwuRE_May"
      },
      "outputs": [],
      "source": [
        "def TicTocGenerator():\n",
        "    ti = 0          \n",
        "    tf = time.time()\n",
        "    while True:\n",
        "        ti = tf\n",
        "        tf = time.time()\n",
        "        yield tf-ti\n",
        "TicToc = TicTocGenerator()\n",
        "def toc(tempBool=True):\n",
        "    tempTimeInterval = next(TicToc)\n",
        "    if tempBool:\n",
        "        print( \"Elapsed time: %f seconds.\\n\" %tempTimeInterval )\n",
        "def tic():\n",
        "    toc(False)\n",
        "\n",
        "tic()"
      ]
    },
    {
      "cell_type": "code",
      "execution_count": null,
      "metadata": {
        "colab": {
          "base_uri": "https://localhost:8080/"
        },
        "id": "TjjWmrcJ_SHF",
        "outputId": "d64733fc-ee14-45a8-8d9c-e33236aabaf2"
      },
      "outputs": [
        {
          "output_type": "stream",
          "name": "stderr",
          "text": [
            "2022-05-29 22:48:50,479 INFO numerapi.utils: starting download\n",
            "./numerai_dataset_318.zip: 458MB [00:19, 23.5MB/s]                           \n",
            "2022-05-29 22:49:09,935 INFO numerapi.base_api: unzipping file...\n"
          ]
        },
        {
          "output_type": "stream",
          "name": "stdout",
          "text": [
            "# Loading data...\n",
            "Loaded 310 features\n",
            "Elapsed time: 124.854786 seconds.\n",
            "\n"
          ]
        }
      ],
      "source": [
        "def read_csv(file_path):\n",
        "    with open(file_path, 'r') as f:\n",
        "        column_names = next(csv.reader(f))\n",
        "        dtypes = {x: np.float16 for x in column_names if\n",
        "                  x.startswith(('feature', 'target'))}\n",
        "    return pd.read_csv(file_path, dtype=dtypes)\n",
        "\n",
        "TARGET_NAME = f\"target\"\n",
        "PREDICTION_NAME = f\"prediction\"\n",
        "napi = numerapi.NumerAPI()\n",
        "# download data\n",
        "napi.download_current_dataset(unzip=True)\n",
        "#getting the latest round information\n",
        "current_ds = napi.get_current_round()\n",
        "latest_round = os.path.join('numerai_dataset_'+str(current_ds))\n",
        "#loading \n",
        "print(\"# Loading data...\")\n",
        "# The training data is used to train your model how to predict the targets.\n",
        "training_data = read_csv(os.path.join(latest_round, \"numerai_training_data.csv\")).set_index(\"id\")\n",
        "# The tournament data is the data that Numerai uses to evaluate your model.\n",
        "tournament_data = read_csv(os.path.join(latest_round, \"numerai_tournament_data.csv\")).set_index(\"id\")\n",
        "\n",
        "example_preds = read_csv(os.path.join(latest_round, \"example_predictions.csv\"))\n",
        "validation_data = tournament_data[tournament_data.data_type == \"validation\"]\n",
        "\n",
        "feature_names = [f for f in training_data.columns if f.startswith(\"feature\")]\n",
        "print(f\"Loaded {len(feature_names)} features\")\n",
        "cols = feature_names+['TARGET_NAME']\n",
        "toc()"
      ]
    },
    {
      "cell_type": "code",
      "execution_count": null,
      "metadata": {
        "colab": {
          "base_uri": "https://localhost:8080/"
        },
        "id": "VQmhACs_AExw",
        "outputId": "60cbbf84-2883-4f45-b5b0-3ed66d799f42"
      },
      "outputs": [
        {
          "output_type": "execute_result",
          "data": {
            "text/plain": [
              "RandomForestRegressor(max_depth=5, max_features=1, oob_score=True)"
            ]
          },
          "metadata": {},
          "execution_count": 5
        }
      ],
      "source": [
        "# random forest hypertuned for best all around performance \n",
        "from sklearn.ensemble import RandomForestRegressor\n",
        "rf = RandomForestRegressor(max_features=int(1),oob_score=True,max_depth=5)\n",
        "rf.fit(training_data[feature_names],training_data['target'])"
      ]
    },
    {
      "cell_type": "code",
      "source": [
        "#results and validation score\n",
        "\n",
        "def score(df):\n",
        "    return correlation(df['tpreds'], df['target'])\n",
        "\n",
        "def correlation(predictions, targets):\n",
        "    ranked_preds = predictions.rank(pct=True, method=\"first\")\n",
        "    return np.corrcoef(ranked_preds, targets)[0, 1]\n",
        "\n",
        "def payout(scores):\n",
        "    return scores.clip(lower=-0.25, upper=0.25)\n",
        "\n",
        "# Check the per-era correlations on the training set (in sample)\n",
        "training_data['tpreds'] = rf.predict(training_data[feature_names])\n",
        "train_correlations = training_data.groupby(\"era\").apply(score)\n",
        "train_correlations.plot(kind=\"bar\")\n",
        "print(\"training performance over time\")\n",
        "plt.show() \n",
        "print(f\"On training the correlation has mean {train_correlations.mean()} and std {train_correlations.std()}\")\n",
        "\n",
        "# Check the per-era correlations on the validation set (out of sample)\n",
        "validation_data['tpreds'] = rf.predict(validation_data[feature_names])\n",
        "validation_correlations = validation_data.groupby(\"era\").apply(score)\n",
        "validation_correlations.plot(kind=\"bar\")\n",
        "print(\"training performance over time\")\n",
        "plt.show() \n",
        "print(f\"On validation the correlation has mean {validation_correlations.mean()} and\" f\"std {validation_correlations.std()}\")"
      ],
      "metadata": {
        "colab": {
          "base_uri": "https://localhost:8080/",
          "height": 766
        },
        "id": "cQ1yEWIm_Mkp",
        "outputId": "071877ae-7809-4416-b2a4-631ebf5b9bc4"
      },
      "execution_count": null,
      "outputs": [
        {
          "output_type": "stream",
          "name": "stdout",
          "text": [
            "training performance over time\n"
          ]
        },
        {
          "output_type": "display_data",
          "data": {
            "text/plain": [
              "<Figure size 432x288 with 1 Axes>"
            ],
            "image/png": "[encoded data removed]"
          },
          "metadata": {
            "needs_background": "light"
          }
        },
        {
          "output_type": "stream",
          "name": "stdout",
          "text": [
            "On training the correlation has mean 0.06278251281777746 and std 0.02684797677266523\n"
          ]
        },
        {
          "output_type": "stream",
          "name": "stderr",
          "text": [
            "/usr/local/lib/python3.7/dist-packages/ipykernel_launcher.py:20: SettingWithCopyWarning: \n",
            "A value is trying to be set on a copy of a slice from a DataFrame.\n",
            "Try using .loc[row_indexer,col_indexer] = value instead\n",
            "\n",
            "See the caveats in the documentation: https://pandas.pydata.org/pandas-docs/stable/user_guide/indexing.html#returning-a-view-versus-a-copy\n"
          ]
        },
        {
          "output_type": "stream",
          "name": "stdout",
          "text": [
            "training performance over time\n"
          ]
        },
        {
          "output_type": "display_data",
          "data": {
            "text/plain": [
              "<Figure size 432x288 with 1 Axes>"
            ],
            "image/png": "[encoded data removed]"
          },
          "metadata": {
            "needs_background": "light"
          }
        },
        {
          "output_type": "stream",
          "name": "stdout",
          "text": [
            "On validation the correlation has mean 0.014958322952005726 andstd 0.029220707017527575\n"
          ]
        }
      ]
    },
    {
      "cell_type": "code",
      "execution_count": null,
      "metadata": {
        "id": "RIEZCjZtCPKz"
      },
      "outputs": [],
      "source": [
        "tournament_data[PREDICTION_NAME] = rf.predict(tournament_data[feature_names])"
      ]
    },
    {
      "cell_type": "code",
      "execution_count": null,
      "metadata": {
        "colab": {
          "base_uri": "https://localhost:8080/"
        },
        "id": "UqSl3ICCCUvN",
        "outputId": "04bee1de-a4e2-4e13-a355-5e12b3428a75"
      },
      "outputs": [
        {
          "output_type": "stream",
          "name": "stderr",
          "text": [
            "2022-05-29 22:51:53,235 INFO numerapi.base_api: uploading predictions...\n"
          ]
        }
      ],
      "source": [
        "tournament_data[PREDICTION_NAME].to_csv(f\"tournament_predictions_{current_ds}.csv\")\n",
        "model_id = '' #base48\n",
        "submission_id = napi.upload_predictions(f\"tournament_predictions_{current_ds}.csv\".format(current_ds), model_id=model_id)"
      ]
    },
    {
      "cell_type": "code",
      "source": [
        ""
      ],
      "metadata": {
        "id": "lD7FmpjOY5gf"
      },
      "execution_count": null,
      "outputs": []
    }
  ],
  "metadata": {
    "colab": {
      "name": "random forests.ipynb",
      "provenance": [],
      "authorship_tag": "ABX9TyNO63gsVmlDNuhH1N33H7br",
      "include_colab_link": true
    },
    "kernelspec": {
      "display_name": "Python 3",
      "name": "python3"
    },
    "language_info": {
      "name": "python"
    }
  },
  "nbformat": 4,
  "nbformat_minor": 0
}